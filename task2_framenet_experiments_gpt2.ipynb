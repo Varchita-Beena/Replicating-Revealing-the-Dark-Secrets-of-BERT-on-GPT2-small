{
 "cells": [
  {
   "cell_type": "code",
   "execution_count": 1,
   "id": "bc43db03",
   "metadata": {},
   "outputs": [],
   "source": [
    "from datasets import load_dataset\n",
    "import torch\n",
    "from tqdm import tqdm\n",
    "import matplotlib.pyplot as plt\n",
    "from tqdm import tqdm\n",
    "import numpy as np\n",
    "import os\n",
    "import torch.nn.functional as F\n",
    "from easy_transformer import EasyTransformer\n",
    "from torch.utils.data import Dataset, DataLoader\n"
   ]
  },
  {
   "cell_type": "code",
   "execution_count": 2,
   "id": "3f7825d7",
   "metadata": {},
   "outputs": [
    {
     "name": "stdout",
     "output_type": "stream",
     "text": [
      "Moving model to device:  cpu\n",
      "Finished loading pretrained model gpt2-small into EasyTransformer!\n"
     ]
    },
    {
     "data": {
      "text/plain": [
       "EasyTransformer(\n",
       "  (embed): Embed()\n",
       "  (hook_embed): HookPoint()\n",
       "  (pos_embed): PosEmbed()\n",
       "  (hook_pos_embed): HookPoint()\n",
       "  (blocks): ModuleList(\n",
       "    (0-11): 12 x TransformerBlock(\n",
       "      (ln1): LayerNorm(\n",
       "        (hook_scale): HookPoint()\n",
       "        (hook_normalized): HookPoint()\n",
       "      )\n",
       "      (ln2): LayerNorm(\n",
       "        (hook_scale): HookPoint()\n",
       "        (hook_normalized): HookPoint()\n",
       "      )\n",
       "      (attn): Attention(\n",
       "        (hook_k): HookPoint()\n",
       "        (hook_q): HookPoint()\n",
       "        (hook_v): HookPoint()\n",
       "        (hook_z): HookPoint()\n",
       "        (hook_attn_scores): HookPoint()\n",
       "        (hook_attn): HookPoint()\n",
       "        (hook_result): HookPoint()\n",
       "      )\n",
       "      (mlp): MLP(\n",
       "        (hook_pre): HookPoint()\n",
       "        (hook_post): HookPoint()\n",
       "      )\n",
       "      (hook_attn_out): HookPoint()\n",
       "      (hook_mlp_out): HookPoint()\n",
       "      (hook_resid_pre): HookPoint()\n",
       "      (hook_resid_mid): HookPoint()\n",
       "      (hook_resid_post): HookPoint()\n",
       "    )\n",
       "  )\n",
       "  (ln_final): LayerNorm(\n",
       "    (hook_scale): HookPoint()\n",
       "    (hook_normalized): HookPoint()\n",
       "  )\n",
       "  (unembed): Unembed()\n",
       ")"
      ]
     },
     "execution_count": 2,
     "metadata": {},
     "output_type": "execute_result"
    }
   ],
   "source": [
    "reference_gpt2 = EasyTransformer.from_pretrained(\"gpt2-small\", fold_ln=False, center_unembed=False, center_writing_weights=False)\n",
    "reference_gpt2"
   ]
  },
  {
   "cell_type": "code",
   "execution_count": 3,
   "id": "eeee5b42",
   "metadata": {},
   "outputs": [],
   "source": [
    "def register_attention_hooks(module):\n",
    "    if isinstance(module, EasyTransformer):\n",
    "        for i, block in enumerate(module.blocks):\n",
    "            attention_module = block.attn.hook_attn\n",
    "            def hook(module, input, output):\n",
    "                attention_scores = output[0]\n",
    "                attention_scores_list.append(attention_scores)\n",
    "            attention_module.register_forward_hook(hook)\n",
    "            \n"
   ]
  },
  {
   "cell_type": "code",
   "execution_count": 4,
   "id": "4338d706",
   "metadata": {},
   "outputs": [],
   "source": [
    "def get_tokens(s):\n",
    "    tokens = reference_gpt2.to_tokens(s, prepend_bos = False)\n",
    "    for i, each in enumerate(tokens.cpu().detach().numpy().tolist()[0]):\n",
    "        print(i, each, reference_gpt2.to_str_tokens(tokens)[i])\n",
    "    return tokens"
   ]
  },
  {
   "cell_type": "code",
   "execution_count": 5,
   "id": "3fa49388",
   "metadata": {},
   "outputs": [],
   "source": [
    "def get_attention_map(semantic_link, attention_scores_list):\n",
    "    attn_map = []\n",
    "    for link in semantic_link:\n",
    "        attention_map = []\n",
    "        for layer in attention_scores_list:\n",
    "            for head in layer:\n",
    "                temp = []\n",
    "                for i in link[1]:\n",
    "                    for j in link[0]:\n",
    "                        temp.append(head[i,j].item())\n",
    "                attention_map.append(max(temp))\n",
    "        attn_map.append(attention_map)\n",
    "    return attn_map"
   ]
  },
  {
   "cell_type": "code",
   "execution_count": 6,
   "id": "9838dd93",
   "metadata": {},
   "outputs": [],
   "source": [
    "attention_maps = []"
   ]
  },
  {
   "cell_type": "code",
   "execution_count": 7,
   "id": "1aa45d5a",
   "metadata": {},
   "outputs": [],
   "source": [
    "s1 = \"I said, 'Were you aware that you might threaten , abuse or insult him ?' \"\n",
    "core_abuser = 'you'\n",
    "core_victim = 'him'"
   ]
  },
  {
   "cell_type": "code",
   "execution_count": 8,
   "id": "2fdda701",
   "metadata": {},
   "outputs": [
    {
     "name": "stdout",
     "output_type": "stream",
     "text": [
      "0 40 I\n",
      "1 531  said\n",
      "2 11 ,\n",
      "3 705  '\n",
      "4 35653 Were\n",
      "5 345  you\n",
      "6 3910  aware\n",
      "7 326  that\n",
      "8 345  you\n",
      "9 1244  might\n",
      "10 16180  threaten\n",
      "11 837  ,\n",
      "12 5076  abuse\n",
      "13 393  or\n",
      "14 13277  insult\n",
      "15 683  him\n",
      "16 5633  ?\n",
      "17 6 '\n",
      "18 220  \n"
     ]
    }
   ],
   "source": [
    "tokens = get_tokens(s1)"
   ]
  },
  {
   "cell_type": "code",
   "execution_count": 9,
   "id": "11d5c13a",
   "metadata": {},
   "outputs": [
    {
     "name": "stdout",
     "output_type": "stream",
     "text": [
      "Moving model to device:  cpu\n",
      "Finished loading pretrained model gpt2-small into EasyTransformer!\n"
     ]
    }
   ],
   "source": [
    "reference_gpt2 = EasyTransformer.from_pretrained(\"gpt2-small\", fold_ln=False, center_unembed=False, center_writing_weights=False)\n",
    "reference_gpt2.eval()\n",
    "attention_scores_list = []\n",
    "register_attention_hooks(reference_gpt2)\n",
    "outputs = reference_gpt2(tokens)\n",
    "\n",
    "semantic_link = [[[0], [1]]]\n",
    "\n",
    "attention_map = get_attention_map(semantic_link, attention_scores_list)\n",
    "attention_maps.extend(attention_map)\n",
    "\n",
    "#matrix = np.reshape(attention_map[0], (12, 12))\n",
    "#plt.imshow(matrix, cmap='Blues_r')"
   ]
  },
  {
   "cell_type": "code",
   "execution_count": 10,
   "id": "a0dcf7c7",
   "metadata": {},
   "outputs": [],
   "source": [
    "s2 = \"I might abuse my kids , but where's the harm in that ?\"\n",
    "core_abuser = 'I'\n",
    "core_victim = 'my kids'"
   ]
  },
  {
   "cell_type": "code",
   "execution_count": 11,
   "id": "5075fe44",
   "metadata": {},
   "outputs": [
    {
     "name": "stdout",
     "output_type": "stream",
     "text": [
      "0 40 I\n",
      "1 1244  might\n",
      "2 5076  abuse\n",
      "3 616  my\n",
      "4 3988  kids\n",
      "5 837  ,\n",
      "6 475  but\n",
      "7 810  where\n",
      "8 338 's\n",
      "9 262  the\n",
      "10 4419  harm\n",
      "11 287  in\n",
      "12 326  that\n",
      "13 5633  ?\n"
     ]
    }
   ],
   "source": [
    "tokens = get_tokens(s2)"
   ]
  },
  {
   "cell_type": "code",
   "execution_count": 12,
   "id": "99d44aab",
   "metadata": {},
   "outputs": [
    {
     "name": "stdout",
     "output_type": "stream",
     "text": [
      "Moving model to device:  cpu\n",
      "Finished loading pretrained model gpt2-small into EasyTransformer!\n"
     ]
    }
   ],
   "source": [
    "reference_gpt2 = EasyTransformer.from_pretrained(\"gpt2-small\", fold_ln=False, center_unembed=False, center_writing_weights=False)\n",
    "reference_gpt2.eval()\n",
    "attention_scores_list = []\n",
    "register_attention_hooks(reference_gpt2)\n",
    "outputs = reference_gpt2(tokens)\n",
    "\n",
    "semantic_link = [[[0], [3, 4]]]\n",
    "\n",
    "attention_map = get_attention_map(semantic_link, attention_scores_list)\n",
    "attention_maps.extend(attention_map)         \n",
    "\n"
   ]
  },
  {
   "cell_type": "code",
   "execution_count": 13,
   "id": "82813cb6",
   "metadata": {},
   "outputs": [],
   "source": [
    "s3 = 'I was going to abuse her .'\n",
    "core_abuser = 'I'\n",
    "core_victim = 'her'"
   ]
  },
  {
   "cell_type": "code",
   "execution_count": 14,
   "id": "4b033a83",
   "metadata": {},
   "outputs": [
    {
     "name": "stdout",
     "output_type": "stream",
     "text": [
      "0 40 I\n",
      "1 373  was\n",
      "2 1016  going\n",
      "3 284  to\n",
      "4 5076  abuse\n",
      "5 607  her\n",
      "6 764  .\n"
     ]
    }
   ],
   "source": [
    "tokens = get_tokens(s3)"
   ]
  },
  {
   "cell_type": "code",
   "execution_count": 15,
   "id": "ffdf421c",
   "metadata": {},
   "outputs": [
    {
     "name": "stdout",
     "output_type": "stream",
     "text": [
      "Moving model to device:  cpu\n",
      "Finished loading pretrained model gpt2-small into EasyTransformer!\n"
     ]
    },
    {
     "data": {
      "text/plain": [
       "<matplotlib.image.AxesImage at 0x32ffbe6d0>"
      ]
     },
     "execution_count": 15,
     "metadata": {},
     "output_type": "execute_result"
    },
    {
     "data": {
      "image/png": "[encoded data removed]",
      "text/plain": [
       "<Figure size 640x480 with 1 Axes>"
      ]
     },
     "metadata": {},
     "output_type": "display_data"
    }
   ],
   "source": [
    "reference_gpt2 = EasyTransformer.from_pretrained(\"gpt2-small\", fold_ln=False, center_unembed=False, center_writing_weights=False)\n",
    "reference_gpt2.eval()\n",
    "attention_scores_list = []\n",
    "register_attention_hooks(reference_gpt2)\n",
    "outputs = reference_gpt2(tokens)\n",
    "\n",
    "semantic_link = [[[0], [5]]]\n",
    "\n",
    "attention_map = get_attention_map(semantic_link, attention_scores_list)\n",
    "attention_maps.extend(attention_map)         \n",
    "\n",
    "matrix = np.reshape(attention_map, (12, 12))\n",
    "plt.imshow(matrix, cmap='Blues_r')"
   ]
  },
  {
   "cell_type": "code",
   "execution_count": 16,
   "id": "7a75d3f3",
   "metadata": {},
   "outputs": [],
   "source": [
    "s4 = 'They carefully adjust the pitch of the outgoing hoots , in such a way as to keep the pitch of the echo constant after it has been Doppler-shifted '\n",
    "core_agent = 'They'\n",
    "core_feature = 'the pitch'\n",
    "peripheral_manner = 'in such a way as to keep the pitch of the echo constant after it has been Doppler-shifted '"
   ]
  },
  {
   "cell_type": "code",
   "execution_count": 17,
   "id": "60544f46",
   "metadata": {},
   "outputs": [
    {
     "name": "stdout",
     "output_type": "stream",
     "text": [
      "0 2990 They\n",
      "1 7773  carefully\n",
      "2 4532  adjust\n",
      "3 262  the\n",
      "4 7078  pitch\n",
      "5 286  of\n",
      "6 262  the\n",
      "7 28181  outgoing\n",
      "8 289  h\n",
      "9 13880 oots\n",
      "10 837  ,\n",
      "11 287  in\n",
      "12 884  such\n",
      "13 257  a\n",
      "14 835  way\n",
      "15 355  as\n",
      "16 284  to\n",
      "17 1394  keep\n",
      "18 262  the\n",
      "19 7078  pitch\n",
      "20 286  of\n",
      "21 262  the\n",
      "22 9809  echo\n",
      "23 6937  constant\n",
      "24 706  after\n",
      "25 340  it\n",
      "26 468  has\n",
      "27 587  been\n",
      "28 2141  Do\n",
      "29 381 pp\n",
      "30 1754 ler\n",
      "31 12 -\n",
      "32 1477 sh\n",
      "33 21715 ifted\n",
      "34 220  \n"
     ]
    }
   ],
   "source": [
    "tokens = get_tokens(s4)"
   ]
  },
  {
   "cell_type": "code",
   "execution_count": 18,
   "id": "36954a46",
   "metadata": {},
   "outputs": [
    {
     "name": "stdout",
     "output_type": "stream",
     "text": [
      "Moving model to device:  cpu\n",
      "Finished loading pretrained model gpt2-small into EasyTransformer!\n"
     ]
    },
    {
     "data": {
      "text/plain": [
       "<matplotlib.image.AxesImage at 0x319a02520>"
      ]
     },
     "execution_count": 18,
     "metadata": {},
     "output_type": "execute_result"
    },
    {
     "data": {
      "image/png": "[encoded data removed]",
      "text/plain": [
       "<Figure size 640x480 with 1 Axes>"
      ]
     },
     "metadata": {},
     "output_type": "display_data"
    }
   ],
   "source": [
    "reference_gpt2 = EasyTransformer.from_pretrained(\"gpt2-small\", fold_ln=False, center_unembed=False, center_writing_weights=False)\n",
    "reference_gpt2.eval()\n",
    "attention_scores_list = []\n",
    "register_attention_hooks(reference_gpt2)\n",
    "outputs = reference_gpt2(tokens)\n",
    "\n",
    "semantic_link = [[[0], [3, 4]], [[0], list(range(11,33))], [[3, 4], list(range(11,33))]]\n",
    "attention_map = get_attention_map(semantic_link, attention_scores_list)\n",
    "attention_maps.extend(attention_map)         \n",
    "matrix = np.reshape(attention_map[0], (12, 12))\n",
    "plt.imshow(matrix, cmap='Blues_r')"
   ]
  },
  {
   "cell_type": "code",
   "execution_count": 19,
   "id": "b295887b",
   "metadata": {},
   "outputs": [],
   "source": [
    "s5 = 'Individual constructors can easily ADJUST the rates to suite their own fancy'\n",
    "core_agent = 'Individual constructors'\n",
    "peripheral_manner = 'easily'\n",
    "ExtraThematic_circumstances = 'the rates'"
   ]
  },
  {
   "cell_type": "code",
   "execution_count": 20,
   "id": "c3b583a7",
   "metadata": {},
   "outputs": [
    {
     "name": "stdout",
     "output_type": "stream",
     "text": [
      "0 35392 Individual\n",
      "1 5678  construct\n",
      "2 669 ors\n",
      "3 460  can\n",
      "4 3538  easily\n",
      "5 5984  AD\n",
      "6 25008 JUST\n",
      "7 262  the\n",
      "8 3965  rates\n",
      "9 284  to\n",
      "10 18389  suite\n",
      "11 511  their\n",
      "12 898  own\n",
      "13 14996  fancy\n"
     ]
    }
   ],
   "source": [
    "tokens = get_tokens(s5)"
   ]
  },
  {
   "cell_type": "code",
   "execution_count": 21,
   "id": "f72fc0e8",
   "metadata": {},
   "outputs": [
    {
     "name": "stdout",
     "output_type": "stream",
     "text": [
      "Moving model to device:  cpu\n",
      "Finished loading pretrained model gpt2-small into EasyTransformer!\n"
     ]
    },
    {
     "data": {
      "text/plain": [
       "<matplotlib.image.AxesImage at 0x340257dc0>"
      ]
     },
     "execution_count": 21,
     "metadata": {},
     "output_type": "execute_result"
    },
    {
     "data": {
      "image/png": "[encoded data removed]",
      "text/plain": [
       "<Figure size 640x480 with 1 Axes>"
      ]
     },
     "metadata": {},
     "output_type": "display_data"
    }
   ],
   "source": [
    "reference_gpt2 = EasyTransformer.from_pretrained(\"gpt2-small\", fold_ln=False, center_unembed=False, center_writing_weights=False)\n",
    "reference_gpt2.eval()\n",
    "attention_scores_list = []\n",
    "register_attention_hooks(reference_gpt2)\n",
    "outputs = reference_gpt2(tokens)\n",
    "\n",
    "semantic_link = [[[0,1], [4]], [[0, 1], [7,8]], [[4], [7,8]]]\n",
    "attention_map = get_attention_map(semantic_link, attention_scores_list)\n",
    "attention_maps.extend(attention_map)         \n",
    "\n",
    "matrix = np.reshape(attention_map[0], (12, 12))\n",
    "plt.imshow(matrix, cmap='Blues_r')\n"
   ]
  },
  {
   "cell_type": "code",
   "execution_count": 22,
   "id": "bb18e20e",
   "metadata": {},
   "outputs": [],
   "source": [
    "s7 = 'Note that because of the duty-free situation , good bargains may be FOUND in European china , including Spode and Wedgwood .'\n",
    "core_theme = 'good bargains'\n",
    "core_location = 'in European china , including Spode and Wedgwood'"
   ]
  },
  {
   "cell_type": "code",
   "execution_count": 23,
   "id": "b16b18a7",
   "metadata": {},
   "outputs": [
    {
     "name": "stdout",
     "output_type": "stream",
     "text": [
      "0 6425 Note\n",
      "1 326  that\n",
      "2 780  because\n",
      "3 286  of\n",
      "4 262  the\n",
      "5 7077  duty\n",
      "6 12 -\n",
      "7 5787 free\n",
      "8 3074  situation\n",
      "9 837  ,\n",
      "10 922  good\n",
      "11 12828  barg\n",
      "12 1299 ains\n",
      "13 743  may\n",
      "14 307  be\n",
      "15 376  F\n",
      "16 15919 OUND\n",
      "17 287  in\n",
      "18 3427  European\n",
      "19 442  ch\n",
      "20 1437 ina\n",
      "21 837  ,\n",
      "22 1390  including\n",
      "23 1338  Sp\n",
      "24 1098 ode\n",
      "25 290  and\n",
      "26 3300  Wed\n",
      "27 70 g\n",
      "28 3822 wood\n",
      "29 764  .\n"
     ]
    }
   ],
   "source": [
    "tokens = get_tokens(s7)"
   ]
  },
  {
   "cell_type": "code",
   "execution_count": 24,
   "id": "b90a4763",
   "metadata": {},
   "outputs": [
    {
     "name": "stdout",
     "output_type": "stream",
     "text": [
      "Moving model to device:  cpu\n",
      "Finished loading pretrained model gpt2-small into EasyTransformer!\n"
     ]
    },
    {
     "data": {
      "text/plain": [
       "<matplotlib.image.AxesImage at 0x338f9f130>"
      ]
     },
     "execution_count": 24,
     "metadata": {},
     "output_type": "execute_result"
    },
    {
     "data": {
      "image/png": "[encoded data removed]",
      "text/plain": [
       "<Figure size 640x480 with 1 Axes>"
      ]
     },
     "metadata": {},
     "output_type": "display_data"
    }
   ],
   "source": [
    "reference_gpt2 = EasyTransformer.from_pretrained(\"gpt2-small\", fold_ln=False, center_unembed=False, center_writing_weights=False)\n",
    "reference_gpt2.eval()\n",
    "attention_scores_list = []\n",
    "register_attention_hooks(reference_gpt2)\n",
    "outputs = reference_gpt2(tokens)\n",
    "\n",
    "semantic_link = [[[10, 11, 12], list(range(17, 20))]]\n",
    "attention_map = get_attention_map(semantic_link, attention_scores_list)\n",
    "attention_maps.extend(attention_map)         \n",
    "\n",
    "matrix = np.reshape(attention_map[0], (12, 12))\n",
    "plt.imshow(matrix, cmap='Blues_r')"
   ]
  },
  {
   "cell_type": "code",
   "execution_count": 25,
   "id": "40d44918",
   "metadata": {},
   "outputs": [],
   "source": [
    "s8 = 'Rain was ASSEMBLING the vacuum cleaner ready to finish the job .'\n",
    "core_agent = 'Rain'\n",
    "core_created_entity = 'the vacuum cleaner'"
   ]
  },
  {
   "cell_type": "code",
   "execution_count": 26,
   "id": "0aa0c781",
   "metadata": {},
   "outputs": [
    {
     "name": "stdout",
     "output_type": "stream",
     "text": [
      "0 31443 Rain\n",
      "1 373  was\n",
      "2 24994  ASS\n",
      "3 3620 EM\n",
      "4 9148 BL\n",
      "5 2751 ING\n",
      "6 262  the\n",
      "7 17076  vacuum\n",
      "8 21723  cleaner\n",
      "9 3492  ready\n",
      "10 284  to\n",
      "11 5461  finish\n",
      "12 262  the\n",
      "13 1693  job\n",
      "14 764  .\n"
     ]
    }
   ],
   "source": [
    "tokens = get_tokens(s8)"
   ]
  },
  {
   "cell_type": "code",
   "execution_count": 27,
   "id": "100ef759",
   "metadata": {},
   "outputs": [
    {
     "name": "stdout",
     "output_type": "stream",
     "text": [
      "Moving model to device:  cpu\n",
      "Finished loading pretrained model gpt2-small into EasyTransformer!\n"
     ]
    },
    {
     "data": {
      "text/plain": [
       "<matplotlib.image.AxesImage at 0x339110130>"
      ]
     },
     "execution_count": 27,
     "metadata": {},
     "output_type": "execute_result"
    },
    {
     "data": {
      "image/png": "[encoded data removed]",
      "text/plain": [
       "<Figure size 640x480 with 1 Axes>"
      ]
     },
     "metadata": {},
     "output_type": "display_data"
    }
   ],
   "source": [
    "reference_gpt2 = EasyTransformer.from_pretrained(\"gpt2-small\", fold_ln=False, center_unembed=False, center_writing_weights=False)\n",
    "reference_gpt2.eval()\n",
    "attention_scores_list = []\n",
    "register_attention_hooks(reference_gpt2)\n",
    "outputs = reference_gpt2(tokens)\n",
    "\n",
    "semantic_link = [[[0], [6, 7, 8]]]\n",
    "attention_map = get_attention_map(semantic_link, attention_scores_list)\n",
    "attention_maps.extend(attention_map)         \n",
    "\n",
    "matrix = np.reshape(attention_map[0], (12, 12))\n",
    "plt.imshow(matrix, cmap='Blues_r')"
   ]
  },
  {
   "cell_type": "code",
   "execution_count": 28,
   "id": "c7317c5d",
   "metadata": {},
   "outputs": [],
   "source": [
    "s9 = 'In 1980 , for example , Kalmar ASSEMBLED 22,800 cars .'\n",
    "core_agent = 'kalmar'\n",
    "core_created_entity = '22,880 cars'"
   ]
  },
  {
   "cell_type": "code",
   "execution_count": 29,
   "id": "7689b97d",
   "metadata": {},
   "outputs": [
    {
     "name": "stdout",
     "output_type": "stream",
     "text": [
      "0 818 In\n",
      "1 7169  1980\n",
      "2 837  ,\n",
      "3 329  for\n",
      "4 1672  example\n",
      "5 837  ,\n",
      "6 12612  Kal\n",
      "7 3876 mar\n",
      "8 24994  ASS\n",
      "9 3620 EM\n",
      "10 9148 BL\n",
      "11 1961 ED\n",
      "12 2534  22\n",
      "13 11 ,\n",
      "14 7410 800\n",
      "15 5006  cars\n",
      "16 764  .\n"
     ]
    }
   ],
   "source": [
    "tokens = get_tokens(s9)"
   ]
  },
  {
   "cell_type": "code",
   "execution_count": 30,
   "id": "8622892f",
   "metadata": {},
   "outputs": [
    {
     "name": "stdout",
     "output_type": "stream",
     "text": [
      "Moving model to device:  cpu\n",
      "Finished loading pretrained model gpt2-small into EasyTransformer!\n"
     ]
    },
    {
     "data": {
      "text/plain": [
       "<matplotlib.image.AxesImage at 0x33959c370>"
      ]
     },
     "execution_count": 30,
     "metadata": {},
     "output_type": "execute_result"
    },
    {
     "data": {
      "image/png": "[encoded data removed]",
      "text/plain": [
       "<Figure size 640x480 with 1 Axes>"
      ]
     },
     "metadata": {},
     "output_type": "display_data"
    }
   ],
   "source": [
    "reference_gpt2 = EasyTransformer.from_pretrained(\"gpt2-small\", fold_ln=False, center_unembed=False, center_writing_weights=False)\n",
    "reference_gpt2.eval()\n",
    "attention_scores_list = []\n",
    "register_attention_hooks(reference_gpt2)\n",
    "outputs = reference_gpt2(tokens)\n",
    "\n",
    "semantic_link = [[[6, 7], [12, 13, 14, 15]]]\n",
    "attention_map = get_attention_map(semantic_link, attention_scores_list)\n",
    "attention_maps.extend(attention_map)         \n",
    "\n",
    "matrix = np.reshape(attention_map[0], (12, 12))\n",
    "plt.imshow(matrix, cmap='Blues_r')"
   ]
  },
  {
   "cell_type": "code",
   "execution_count": 31,
   "id": "cf989775",
   "metadata": {},
   "outputs": [],
   "source": [
    "s10 = 'Police also find a second house where authorities believe two others may have ASSEMBLED the bomb , possibly doing some welding .'\n",
    "core_agent = 'two others'\n",
    "core_created_entity = 'the bomb'"
   ]
  },
  {
   "cell_type": "code",
   "execution_count": 32,
   "id": "b2b402fd",
   "metadata": {},
   "outputs": [
    {
     "name": "stdout",
     "output_type": "stream",
     "text": [
      "0 9039 Police\n",
      "1 635  also\n",
      "2 1064  find\n",
      "3 257  a\n",
      "4 1218  second\n",
      "5 2156  house\n",
      "6 810  where\n",
      "7 4773  authorities\n",
      "8 1975  believe\n",
      "9 734  two\n",
      "10 1854  others\n",
      "11 743  may\n",
      "12 423  have\n",
      "13 24994  ASS\n",
      "14 3620 EM\n",
      "15 9148 BL\n",
      "16 1961 ED\n",
      "17 262  the\n",
      "18 5194  bomb\n",
      "19 837  ,\n",
      "20 5457  possibly\n",
      "21 1804  doing\n",
      "22 617  some\n",
      "23 47973  welding\n",
      "24 764  .\n"
     ]
    }
   ],
   "source": [
    "tokens = get_tokens(s10)"
   ]
  },
  {
   "cell_type": "code",
   "execution_count": 33,
   "id": "6c09ffaa",
   "metadata": {},
   "outputs": [
    {
     "name": "stdout",
     "output_type": "stream",
     "text": [
      "Moving model to device:  cpu\n",
      "Finished loading pretrained model gpt2-small into EasyTransformer!\n"
     ]
    },
    {
     "data": {
      "text/plain": [
       "<matplotlib.image.AxesImage at 0x3395eec40>"
      ]
     },
     "execution_count": 33,
     "metadata": {},
     "output_type": "execute_result"
    },
    {
     "data": {
      "image/png": "[encoded data removed]",
      "text/plain": [
       "<Figure size 640x480 with 1 Axes>"
      ]
     },
     "metadata": {},
     "output_type": "display_data"
    }
   ],
   "source": [
    "reference_gpt2 = EasyTransformer.from_pretrained(\"gpt2-small\", fold_ln=False, center_unembed=False, center_writing_weights=False)\n",
    "reference_gpt2.eval()\n",
    "attention_scores_list = []\n",
    "register_attention_hooks(reference_gpt2)\n",
    "outputs = reference_gpt2(tokens)\n",
    "\n",
    "semantic_link = [[[9, 10], [17, 18]]]\n",
    "attention_map = get_attention_map(semantic_link, attention_scores_list)\n",
    "attention_maps.extend(attention_map)         \n",
    "\n",
    "matrix = np.reshape(attention_map[0], (12, 12))\n",
    "plt.imshow(matrix, cmap='Blues_r')"
   ]
  },
  {
   "cell_type": "code",
   "execution_count": 34,
   "id": "8c23bc91",
   "metadata": {},
   "outputs": [],
   "source": [
    "s12 = 'He had never been able to grasp it himself , never been able to ASSEMBLE the jigsaw pieces of his identity into a clear recognisable picture .'\n",
    "core_agent = 'He'\n",
    "core_created_entity = 'the jigsaw pieces of his identity'"
   ]
  },
  {
   "cell_type": "code",
   "execution_count": 35,
   "id": "de17a254",
   "metadata": {},
   "outputs": [
    {
     "name": "stdout",
     "output_type": "stream",
     "text": [
      "0 1544 He\n",
      "1 550  had\n",
      "2 1239  never\n",
      "3 587  been\n",
      "4 1498  able\n",
      "5 284  to\n",
      "6 13180  grasp\n",
      "7 340  it\n",
      "8 2241  himself\n",
      "9 837  ,\n",
      "10 1239  never\n",
      "11 587  been\n",
      "12 1498  able\n",
      "13 284  to\n",
      "14 24994  ASS\n",
      "15 3620 EM\n",
      "16 19146 BLE\n",
      "17 262  the\n",
      "18 474  j\n",
      "19 45636 igsaw\n",
      "20 5207  pieces\n",
      "21 286  of\n",
      "22 465  his\n",
      "23 5369  identity\n",
      "24 656  into\n",
      "25 257  a\n",
      "26 1598  clear\n",
      "27 3018  recogn\n",
      "28 43942 isable\n",
      "29 4286  picture\n",
      "30 764  .\n"
     ]
    }
   ],
   "source": [
    "tokens = get_tokens(s12)"
   ]
  },
  {
   "cell_type": "code",
   "execution_count": 36,
   "id": "8c13c6e9",
   "metadata": {},
   "outputs": [
    {
     "name": "stdout",
     "output_type": "stream",
     "text": [
      "Moving model to device:  cpu\n",
      "Finished loading pretrained model gpt2-small into EasyTransformer!\n"
     ]
    },
    {
     "data": {
      "text/plain": [
       "<matplotlib.image.AxesImage at 0x339795250>"
      ]
     },
     "execution_count": 36,
     "metadata": {},
     "output_type": "execute_result"
    },
    {
     "data": {
      "image/png": "[encoded data removed]",
      "text/plain": [
       "<Figure size 640x480 with 1 Axes>"
      ]
     },
     "metadata": {},
     "output_type": "display_data"
    }
   ],
   "source": [
    "reference_gpt2 = EasyTransformer.from_pretrained(\"gpt2-small\", fold_ln=False, center_unembed=False, center_writing_weights=False)\n",
    "reference_gpt2.eval()\n",
    "attention_scores_list = []\n",
    "register_attention_hooks(reference_gpt2)\n",
    "outputs = reference_gpt2(tokens)\n",
    "\n",
    "semantic_link = [[[0], list(range(17, 24))]]\n",
    "attention_map = get_attention_map(semantic_link, attention_scores_list)\n",
    "attention_maps.extend(attention_map)         \n",
    "\n",
    "matrix = np.reshape(attention_map[0], (12, 12))\n",
    "plt.imshow(matrix, cmap='Blues_r')"
   ]
  },
  {
   "cell_type": "code",
   "execution_count": 37,
   "id": "4c06ace7",
   "metadata": {},
   "outputs": [],
   "source": [
    "s13 = 'he was becoming agitated'"
   ]
  },
  {
   "cell_type": "code",
   "execution_count": 38,
   "id": "1998b79d",
   "metadata": {},
   "outputs": [
    {
     "name": "stdout",
     "output_type": "stream",
     "text": [
      "0 258 he\n",
      "1 373  was\n",
      "2 5033  becoming\n",
      "3 41574  agitated\n"
     ]
    }
   ],
   "source": [
    "tokens = get_tokens(s13)"
   ]
  },
  {
   "cell_type": "code",
   "execution_count": 39,
   "id": "bfda08ec",
   "metadata": {},
   "outputs": [
    {
     "name": "stdout",
     "output_type": "stream",
     "text": [
      "Moving model to device:  cpu\n",
      "Finished loading pretrained model gpt2-small into EasyTransformer!\n"
     ]
    },
    {
     "data": {
      "text/plain": [
       "<matplotlib.image.AxesImage at 0x3397cea30>"
      ]
     },
     "execution_count": 39,
     "metadata": {},
     "output_type": "execute_result"
    },
    {
     "data": {
      "image/png": "[encoded data removed]",
      "text/plain": [
       "<Figure size 640x480 with 1 Axes>"
      ]
     },
     "metadata": {},
     "output_type": "display_data"
    }
   ],
   "source": [
    "reference_gpt2 = EasyTransformer.from_pretrained(\"gpt2-small\", fold_ln=False, center_unembed=False, center_writing_weights=False)\n",
    "reference_gpt2.eval()\n",
    "attention_scores_list = []\n",
    "register_attention_hooks(reference_gpt2)\n",
    "outputs = reference_gpt2(tokens)\n",
    "\n",
    "semantic_link = [[[0], [3]]]\n",
    "attention_map = get_attention_map(semantic_link, attention_scores_list)\n",
    "attention_maps.extend(attention_map)         \n",
    "\n",
    "matrix = np.reshape(attention_map[0], (12, 12))\n",
    "plt.imshow(matrix, cmap='Blues_r')"
   ]
  },
  {
   "cell_type": "code",
   "execution_count": 40,
   "id": "d98933a2",
   "metadata": {},
   "outputs": [],
   "source": [
    "s14 = 'he was angry with me'"
   ]
  },
  {
   "cell_type": "code",
   "execution_count": 41,
   "id": "2fa9f1d6",
   "metadata": {},
   "outputs": [
    {
     "name": "stdout",
     "output_type": "stream",
     "text": [
      "0 258 he\n",
      "1 373  was\n",
      "2 7954  angry\n",
      "3 351  with\n",
      "4 502  me\n"
     ]
    }
   ],
   "source": [
    "tokens = get_tokens(s14)"
   ]
  },
  {
   "cell_type": "code",
   "execution_count": 42,
   "id": "7598a9e6",
   "metadata": {},
   "outputs": [
    {
     "name": "stdout",
     "output_type": "stream",
     "text": [
      "Moving model to device:  cpu\n",
      "Finished loading pretrained model gpt2-small into EasyTransformer!\n"
     ]
    },
    {
     "data": {
      "text/plain": [
       "<matplotlib.image.AxesImage at 0x36040a550>"
      ]
     },
     "execution_count": 42,
     "metadata": {},
     "output_type": "execute_result"
    },
    {
     "data": {
      "image/png": "[encoded data removed]",
      "text/plain": [
       "<Figure size 640x480 with 1 Axes>"
      ]
     },
     "metadata": {},
     "output_type": "display_data"
    }
   ],
   "source": [
    "reference_gpt2 = EasyTransformer.from_pretrained(\"gpt2-small\", fold_ln=False, center_unembed=False, center_writing_weights=False)\n",
    "reference_gpt2.eval()\n",
    "attention_scores_list = []\n",
    "register_attention_hooks(reference_gpt2)\n",
    "outputs = reference_gpt2(tokens)\n",
    "\n",
    "semantic_link = [[[0], [2]], [[0], [4]]]\n",
    "attention_map = get_attention_map(semantic_link, attention_scores_list)\n",
    "attention_maps.extend(attention_map)         \n",
    "\n",
    "matrix = np.reshape(attention_map[0], (12, 12))\n",
    "plt.imshow(matrix, cmap='Blues_r')"
   ]
  },
  {
   "cell_type": "code",
   "execution_count": 43,
   "id": "80c5914f",
   "metadata": {},
   "outputs": [],
   "source": [
    "s15 = 'I was broken in pieces'"
   ]
  },
  {
   "cell_type": "code",
   "execution_count": 44,
   "id": "d0d31c76",
   "metadata": {},
   "outputs": [
    {
     "name": "stdout",
     "output_type": "stream",
     "text": [
      "0 40 I\n",
      "1 373  was\n",
      "2 5445  broken\n",
      "3 287  in\n",
      "4 5207  pieces\n"
     ]
    }
   ],
   "source": [
    "tokens = get_tokens(s15)"
   ]
  },
  {
   "cell_type": "code",
   "execution_count": 45,
   "id": "ec521f49",
   "metadata": {},
   "outputs": [
    {
     "name": "stdout",
     "output_type": "stream",
     "text": [
      "Moving model to device:  cpu\n",
      "Finished loading pretrained model gpt2-small into EasyTransformer!\n"
     ]
    },
    {
     "data": {
      "text/plain": [
       "<matplotlib.image.AxesImage at 0x3607c2610>"
      ]
     },
     "execution_count": 45,
     "metadata": {},
     "output_type": "execute_result"
    },
    {
     "data": {
      "image/png": "[encoded data removed]",
      "text/plain": [
       "<Figure size 640x480 with 1 Axes>"
      ]
     },
     "metadata": {},
     "output_type": "display_data"
    }
   ],
   "source": [
    "reference_gpt2 = EasyTransformer.from_pretrained(\"gpt2-small\", fold_ln=False, center_unembed=False, center_writing_weights=False)\n",
    "reference_gpt2.eval()\n",
    "attention_scores_list = []\n",
    "register_attention_hooks(reference_gpt2)\n",
    "outputs = reference_gpt2(tokens)\n",
    "\n",
    "semantic_link = [[[0], [2]]]\n",
    "attention_map = get_attention_map(semantic_link, attention_scores_list)\n",
    "attention_maps.extend(attention_map)         \n",
    "\n",
    "matrix = np.reshape(attention_map[0], (12, 12))\n",
    "plt.imshow(matrix, cmap='Blues_r')"
   ]
  },
  {
   "cell_type": "code",
   "execution_count": 46,
   "id": "59040ac7",
   "metadata": {},
   "outputs": [],
   "source": [
    "s16 = \"Taylor's concert was awesome, I had a great time\""
   ]
  },
  {
   "cell_type": "code",
   "execution_count": 47,
   "id": "c0c16b13",
   "metadata": {},
   "outputs": [
    {
     "name": "stdout",
     "output_type": "stream",
     "text": [
      "0 29907 Taylor\n",
      "1 338 's\n",
      "2 10010  concert\n",
      "3 373  was\n",
      "4 7427  awesome\n",
      "5 11 ,\n",
      "6 314  I\n",
      "7 550  had\n",
      "8 257  a\n",
      "9 1049  great\n",
      "10 640  time\n"
     ]
    }
   ],
   "source": [
    "tokens = get_tokens(s16)"
   ]
  },
  {
   "cell_type": "code",
   "execution_count": 48,
   "id": "21750875",
   "metadata": {},
   "outputs": [
    {
     "name": "stdout",
     "output_type": "stream",
     "text": [
      "Moving model to device:  cpu\n",
      "Finished loading pretrained model gpt2-small into EasyTransformer!\n"
     ]
    },
    {
     "data": {
      "text/plain": [
       "<matplotlib.image.AxesImage at 0x32ffcd7f0>"
      ]
     },
     "execution_count": 48,
     "metadata": {},
     "output_type": "execute_result"
    },
    {
     "data": {
      "image/png": "[encoded data removed]",
      "text/plain": [
       "<Figure size 640x480 with 1 Axes>"
      ]
     },
     "metadata": {},
     "output_type": "display_data"
    }
   ],
   "source": [
    "reference_gpt2 = EasyTransformer.from_pretrained(\"gpt2-small\", fold_ln=False, center_unembed=False, center_writing_weights=False)\n",
    "reference_gpt2.eval()\n",
    "attention_scores_list = []\n",
    "register_attention_hooks(reference_gpt2)\n",
    "outputs = reference_gpt2(tokens)\n",
    "\n",
    "semantic_link = [[[0], [4]], [[6],[9]]]\n",
    "attention_map = get_attention_map(semantic_link, attention_scores_list)\n",
    "attention_maps.extend(attention_map)         \n",
    "\n",
    "matrix = np.reshape(attention_map[0], (12, 12))\n",
    "plt.imshow(matrix, cmap='Blues_r')"
   ]
  },
  {
   "cell_type": "code",
   "execution_count": 49,
   "id": "0721eccf",
   "metadata": {},
   "outputs": [],
   "source": [
    "s17 = 'My exam went very bad'"
   ]
  },
  {
   "cell_type": "code",
   "execution_count": 50,
   "id": "0fc64086",
   "metadata": {},
   "outputs": [
    {
     "name": "stdout",
     "output_type": "stream",
     "text": [
      "0 3666 My\n",
      "1 2814  exam\n",
      "2 1816  went\n",
      "3 845  very\n",
      "4 2089  bad\n"
     ]
    }
   ],
   "source": [
    "tokens = get_tokens(s17)"
   ]
  },
  {
   "cell_type": "code",
   "execution_count": 51,
   "id": "71172073",
   "metadata": {},
   "outputs": [
    {
     "name": "stdout",
     "output_type": "stream",
     "text": [
      "Moving model to device:  cpu\n",
      "Finished loading pretrained model gpt2-small into EasyTransformer!\n"
     ]
    },
    {
     "data": {
      "text/plain": [
       "<matplotlib.image.AxesImage at 0x36096a190>"
      ]
     },
     "execution_count": 51,
     "metadata": {},
     "output_type": "execute_result"
    },
    {
     "data": {
      "image/png": "[encoded data removed]",
      "text/plain": [
       "<Figure size 640x480 with 1 Axes>"
      ]
     },
     "metadata": {},
     "output_type": "display_data"
    }
   ],
   "source": [
    "reference_gpt2 = EasyTransformer.from_pretrained(\"gpt2-small\", fold_ln=False, center_unembed=False, center_writing_weights=False)\n",
    "reference_gpt2.eval()\n",
    "attention_scores_list = []\n",
    "register_attention_hooks(reference_gpt2)\n",
    "outputs = reference_gpt2(tokens)\n",
    "\n",
    "semantic_link = [[[0], [4]]]\n",
    "attention_map = get_attention_map(semantic_link, attention_scores_list)\n",
    "attention_maps.extend(attention_map)         \n",
    "\n",
    "matrix = np.reshape(attention_map[0], (12, 12))\n",
    "plt.imshow(matrix, cmap='Blues_r')"
   ]
  },
  {
   "cell_type": "code",
   "execution_count": 52,
   "id": "941a18e0",
   "metadata": {},
   "outputs": [],
   "source": [
    "s18 = 'he is very scared of guns because his brother died in war'"
   ]
  },
  {
   "cell_type": "code",
   "execution_count": 53,
   "id": "f614ef1a",
   "metadata": {},
   "outputs": [
    {
     "name": "stdout",
     "output_type": "stream",
     "text": [
      "0 258 he\n",
      "1 318  is\n",
      "2 845  very\n",
      "3 12008  scared\n",
      "4 286  of\n",
      "5 6541  guns\n",
      "6 780  because\n",
      "7 465  his\n",
      "8 3956  brother\n",
      "9 3724  died\n",
      "10 287  in\n",
      "11 1175  war\n"
     ]
    }
   ],
   "source": [
    "tokens = get_tokens(s18)"
   ]
  },
  {
   "cell_type": "code",
   "execution_count": 54,
   "id": "349cdba0",
   "metadata": {},
   "outputs": [
    {
     "name": "stdout",
     "output_type": "stream",
     "text": [
      "Moving model to device:  cpu\n",
      "Finished loading pretrained model gpt2-small into EasyTransformer!\n"
     ]
    },
    {
     "data": {
      "text/plain": [
       "<matplotlib.image.AxesImage at 0x3609847f0>"
      ]
     },
     "execution_count": 54,
     "metadata": {},
     "output_type": "execute_result"
    },
    {
     "data": {
      "image/png": "[encoded data removed]",
      "text/plain": [
       "<Figure size 640x480 with 1 Axes>"
      ]
     },
     "metadata": {},
     "output_type": "display_data"
    }
   ],
   "source": [
    "reference_gpt2 = EasyTransformer.from_pretrained(\"gpt2-small\", fold_ln=False, center_unembed=False, center_writing_weights=False)\n",
    "reference_gpt2.eval()\n",
    "attention_scores_list = []\n",
    "register_attention_hooks(reference_gpt2)\n",
    "outputs = reference_gpt2(tokens)\n",
    "\n",
    "semantic_link = [[[0], [5]], [[0],[7,8,9,10,11]]]\n",
    "attention_map = get_attention_map(semantic_link, attention_scores_list)\n",
    "attention_maps.extend(attention_map)         \n",
    "\n",
    "matrix = np.reshape(attention_map[0], (12, 12))\n",
    "plt.imshow(matrix, cmap='Blues_r')"
   ]
  },
  {
   "cell_type": "code",
   "execution_count": 55,
   "id": "d58877ca",
   "metadata": {},
   "outputs": [],
   "source": [
    "s19 = 'he was getting hunted by the task force'"
   ]
  },
  {
   "cell_type": "code",
   "execution_count": 56,
   "id": "0969520c",
   "metadata": {},
   "outputs": [
    {
     "name": "stdout",
     "output_type": "stream",
     "text": [
      "0 258 he\n",
      "1 373  was\n",
      "2 1972  getting\n",
      "3 34275  hunted\n",
      "4 416  by\n",
      "5 262  the\n",
      "6 4876  task\n",
      "7 2700  force\n"
     ]
    }
   ],
   "source": [
    "tokens = get_tokens(s19)"
   ]
  },
  {
   "cell_type": "code",
   "execution_count": 57,
   "id": "125295df",
   "metadata": {},
   "outputs": [
    {
     "name": "stdout",
     "output_type": "stream",
     "text": [
      "Moving model to device:  cpu\n",
      "Finished loading pretrained model gpt2-small into EasyTransformer!\n"
     ]
    },
    {
     "data": {
      "text/plain": [
       "<matplotlib.image.AxesImage at 0x36096e1c0>"
      ]
     },
     "execution_count": 57,
     "metadata": {},
     "output_type": "execute_result"
    },
    {
     "data": {
      "image/png": "[encoded data removed]",
      "text/plain": [
       "<Figure size 640x480 with 1 Axes>"
      ]
     },
     "metadata": {},
     "output_type": "display_data"
    }
   ],
   "source": [
    "reference_gpt2 = EasyTransformer.from_pretrained(\"gpt2-small\", fold_ln=False, center_unembed=False, center_writing_weights=False)\n",
    "reference_gpt2.eval()\n",
    "attention_scores_list = []\n",
    "register_attention_hooks(reference_gpt2)\n",
    "outputs = reference_gpt2(tokens)\n",
    "\n",
    "semantic_link = [[[0], [3]]]\n",
    "attention_map = get_attention_map(semantic_link, attention_scores_list)\n",
    "attention_maps.extend(attention_map)         \n",
    "\n",
    "matrix = np.reshape(attention_map[0], (12, 12))\n",
    "plt.imshow(matrix, cmap='Blues_r')"
   ]
  },
  {
   "cell_type": "code",
   "execution_count": 58,
   "id": "2c71eee0",
   "metadata": {},
   "outputs": [],
   "source": [
    "s20 = 'All the fishes in the river were dead'"
   ]
  },
  {
   "cell_type": "code",
   "execution_count": 59,
   "id": "d412d5bf",
   "metadata": {},
   "outputs": [
    {
     "name": "stdout",
     "output_type": "stream",
     "text": [
      "0 3237 All\n",
      "1 262  the\n",
      "2 49765  fishes\n",
      "3 287  in\n",
      "4 262  the\n",
      "5 7850  river\n",
      "6 547  were\n",
      "7 2636  dead\n"
     ]
    }
   ],
   "source": [
    "tokens = get_tokens(s20)"
   ]
  },
  {
   "cell_type": "code",
   "execution_count": 60,
   "id": "216a26ca",
   "metadata": {},
   "outputs": [
    {
     "name": "stdout",
     "output_type": "stream",
     "text": [
      "Moving model to device:  cpu\n",
      "Finished loading pretrained model gpt2-small into EasyTransformer!\n"
     ]
    },
    {
     "data": {
      "text/plain": [
       "<matplotlib.image.AxesImage at 0x3118df040>"
      ]
     },
     "execution_count": 60,
     "metadata": {},
     "output_type": "execute_result"
    },
    {
     "data": {
      "image/png": "[encoded data removed]",
      "text/plain": [
       "<Figure size 640x480 with 1 Axes>"
      ]
     },
     "metadata": {},
     "output_type": "display_data"
    }
   ],
   "source": [
    "reference_gpt2 = EasyTransformer.from_pretrained(\"gpt2-small\", fold_ln=False, center_unembed=False, center_writing_weights=False)\n",
    "reference_gpt2.eval()\n",
    "attention_scores_list = []\n",
    "register_attention_hooks(reference_gpt2)\n",
    "outputs = reference_gpt2(tokens)\n",
    "\n",
    "semantic_link = [[[2], [7]]]\n",
    "attention_map = get_attention_map(semantic_link, attention_scores_list)\n",
    "attention_maps.extend(attention_map)         \n",
    "\n",
    "matrix = np.reshape(attention_map[0], (12, 12))\n",
    "plt.imshow(matrix, cmap='Blues_r')"
   ]
  },
  {
   "cell_type": "code",
   "execution_count": 61,
   "id": "7473dc41",
   "metadata": {},
   "outputs": [],
   "source": [
    "s21 = 'I had a very bad dream in which I almost died'"
   ]
  },
  {
   "cell_type": "code",
   "execution_count": 62,
   "id": "9b18cc36",
   "metadata": {},
   "outputs": [
    {
     "name": "stdout",
     "output_type": "stream",
     "text": [
      "0 40 I\n",
      "1 550  had\n",
      "2 257  a\n",
      "3 845  very\n",
      "4 2089  bad\n",
      "5 4320  dream\n",
      "6 287  in\n",
      "7 543  which\n",
      "8 314  I\n",
      "9 2048  almost\n",
      "10 3724  died\n"
     ]
    }
   ],
   "source": [
    "tokens = get_tokens(s21)"
   ]
  },
  {
   "cell_type": "code",
   "execution_count": 63,
   "id": "2d29b511",
   "metadata": {},
   "outputs": [
    {
     "name": "stdout",
     "output_type": "stream",
     "text": [
      "Moving model to device:  cpu\n",
      "Finished loading pretrained model gpt2-small into EasyTransformer!\n"
     ]
    },
    {
     "data": {
      "text/plain": [
       "<matplotlib.image.AxesImage at 0x339538c70>"
      ]
     },
     "execution_count": 63,
     "metadata": {},
     "output_type": "execute_result"
    },
    {
     "data": {
      "image/png": "[encoded data removed]",
      "text/plain": [
       "<Figure size 640x480 with 1 Axes>"
      ]
     },
     "metadata": {},
     "output_type": "display_data"
    }
   ],
   "source": [
    "reference_gpt2 = EasyTransformer.from_pretrained(\"gpt2-small\", fold_ln=False, center_unembed=False, center_writing_weights=False)\n",
    "reference_gpt2.eval()\n",
    "attention_scores_list = []\n",
    "register_attention_hooks(reference_gpt2)\n",
    "outputs = reference_gpt2(tokens)\n",
    "\n",
    "semantic_link = [[[0], [10]], [[0],[4, 5]]]\n",
    "attention_map = get_attention_map(semantic_link, attention_scores_list)\n",
    "attention_maps.extend(attention_map)         \n",
    "\n",
    "matrix = np.reshape(attention_map[0], (12, 12))\n",
    "plt.imshow(matrix, cmap='Blues_r')"
   ]
  },
  {
   "cell_type": "code",
   "execution_count": 64,
   "id": "dc92fc37",
   "metadata": {},
   "outputs": [],
   "source": [
    "s22 = 'Sameer was getting married by the beach'"
   ]
  },
  {
   "cell_type": "code",
   "execution_count": 65,
   "id": "ab664455",
   "metadata": {},
   "outputs": [
    {
     "name": "stdout",
     "output_type": "stream",
     "text": [
      "0 30556 Same\n",
      "1 263 er\n",
      "2 373  was\n",
      "3 1972  getting\n",
      "4 6405  married\n",
      "5 416  by\n",
      "6 262  the\n",
      "7 10481  beach\n"
     ]
    }
   ],
   "source": [
    "tokens = get_tokens(s22)"
   ]
  },
  {
   "cell_type": "code",
   "execution_count": 66,
   "id": "bd95654e",
   "metadata": {},
   "outputs": [
    {
     "name": "stdout",
     "output_type": "stream",
     "text": [
      "Moving model to device:  cpu\n",
      "Finished loading pretrained model gpt2-small into EasyTransformer!\n"
     ]
    },
    {
     "data": {
      "text/plain": [
       "<matplotlib.image.AxesImage at 0x3605282b0>"
      ]
     },
     "execution_count": 66,
     "metadata": {},
     "output_type": "execute_result"
    },
    {
     "data": {
      "image/png": "[encoded data removed]",
      "text/plain": [
       "<Figure size 640x480 with 1 Axes>"
      ]
     },
     "metadata": {},
     "output_type": "display_data"
    }
   ],
   "source": [
    "reference_gpt2 = EasyTransformer.from_pretrained(\"gpt2-small\", fold_ln=False, center_unembed=False, center_writing_weights=False)\n",
    "reference_gpt2.eval()\n",
    "attention_scores_list = []\n",
    "register_attention_hooks(reference_gpt2)\n",
    "outputs = reference_gpt2(tokens)\n",
    "\n",
    "semantic_link = [[[0], [4]]]\n",
    "attention_map = get_attention_map(semantic_link, attention_scores_list)\n",
    "attention_maps.extend(attention_map)         \n",
    "\n",
    "matrix = np.reshape(attention_map[0], (12, 12))\n",
    "plt.imshow(matrix, cmap='Blues_r')"
   ]
  },
  {
   "cell_type": "code",
   "execution_count": 67,
   "id": "b9cd86b0",
   "metadata": {},
   "outputs": [],
   "source": [
    "s23 = 'you know they are getting divorced over a petty thing'"
   ]
  },
  {
   "cell_type": "code",
   "execution_count": 68,
   "id": "05d37434",
   "metadata": {},
   "outputs": [
    {
     "name": "stdout",
     "output_type": "stream",
     "text": [
      "0 5832 you\n",
      "1 760  know\n",
      "2 484  they\n",
      "3 389  are\n",
      "4 1972  getting\n",
      "5 25107  divorced\n",
      "6 625  over\n",
      "7 257  a\n",
      "8 25229  petty\n",
      "9 1517  thing\n"
     ]
    }
   ],
   "source": [
    "tokens = get_tokens(s23)"
   ]
  },
  {
   "cell_type": "code",
   "execution_count": 69,
   "id": "b7c1bcd4",
   "metadata": {},
   "outputs": [
    {
     "name": "stdout",
     "output_type": "stream",
     "text": [
      "Moving model to device:  cpu\n",
      "Finished loading pretrained model gpt2-small into EasyTransformer!\n"
     ]
    },
    {
     "data": {
      "text/plain": [
       "<matplotlib.image.AxesImage at 0x3119f98e0>"
      ]
     },
     "execution_count": 69,
     "metadata": {},
     "output_type": "execute_result"
    },
    {
     "data": {
      "image/png": "[encoded data removed]",
      "text/plain": [
       "<Figure size 640x480 with 1 Axes>"
      ]
     },
     "metadata": {},
     "output_type": "display_data"
    }
   ],
   "source": [
    "reference_gpt2 = EasyTransformer.from_pretrained(\"gpt2-small\", fold_ln=False, center_unembed=False, center_writing_weights=False)\n",
    "reference_gpt2.eval()\n",
    "attention_scores_list = []\n",
    "register_attention_hooks(reference_gpt2)\n",
    "outputs = reference_gpt2(tokens)\n",
    "\n",
    "semantic_link = [[[2], [5]]]\n",
    "attention_map = get_attention_map(semantic_link, attention_scores_list)\n",
    "attention_maps.extend(attention_map)         \n",
    "\n",
    "matrix = np.reshape(attention_map[0], (12, 12))\n",
    "plt.imshow(matrix, cmap='Blues_r')"
   ]
  },
  {
   "cell_type": "code",
   "execution_count": 70,
   "id": "3cf0201e",
   "metadata": {},
   "outputs": [],
   "source": [
    "s24 = 'The child became so happy by watching her mother dance'"
   ]
  },
  {
   "cell_type": "code",
   "execution_count": 71,
   "id": "c5692736",
   "metadata": {},
   "outputs": [
    {
     "name": "stdout",
     "output_type": "stream",
     "text": [
      "0 464 The\n",
      "1 1200  child\n",
      "2 2627  became\n",
      "3 523  so\n",
      "4 3772  happy\n",
      "5 416  by\n",
      "6 4964  watching\n",
      "7 607  her\n",
      "8 2802  mother\n",
      "9 9280  dance\n"
     ]
    }
   ],
   "source": [
    "tokens = get_tokens(s24)"
   ]
  },
  {
   "cell_type": "code",
   "execution_count": 72,
   "id": "8dbc10d7",
   "metadata": {},
   "outputs": [
    {
     "name": "stdout",
     "output_type": "stream",
     "text": [
      "Moving model to device:  cpu\n",
      "Finished loading pretrained model gpt2-small into EasyTransformer!\n"
     ]
    },
    {
     "data": {
      "text/plain": [
       "<matplotlib.image.AxesImage at 0x31172d190>"
      ]
     },
     "execution_count": 72,
     "metadata": {},
     "output_type": "execute_result"
    },
    {
     "data": {
      "image/png": "[encoded data removed]",
      "text/plain": [
       "<Figure size 640x480 with 1 Axes>"
      ]
     },
     "metadata": {},
     "output_type": "display_data"
    }
   ],
   "source": [
    "reference_gpt2 = EasyTransformer.from_pretrained(\"gpt2-small\", fold_ln=False, center_unembed=False, center_writing_weights=False)\n",
    "reference_gpt2.eval()\n",
    "attention_scores_list = []\n",
    "register_attention_hooks(reference_gpt2)\n",
    "outputs = reference_gpt2(tokens)\n",
    "\n",
    "semantic_link = [[[1], [4]], [[1],[6]]]\n",
    "attention_map = get_attention_map(semantic_link, attention_scores_list)\n",
    "attention_maps.extend(attention_map)         \n",
    "\n",
    "matrix = np.reshape(attention_map[0], (12, 12))\n",
    "plt.imshow(matrix, cmap='Blues_r')"
   ]
  },
  {
   "cell_type": "code",
   "execution_count": 73,
   "id": "aa6cc9f8",
   "metadata": {},
   "outputs": [],
   "source": [
    "s25 = 'We were dancing and jumping in the rain like little kids'"
   ]
  },
  {
   "cell_type": "code",
   "execution_count": 74,
   "id": "1f026a6e",
   "metadata": {},
   "outputs": [
    {
     "name": "stdout",
     "output_type": "stream",
     "text": [
      "0 1135 We\n",
      "1 547  were\n",
      "2 15360  dancing\n",
      "3 290  and\n",
      "4 14284  jumping\n",
      "5 287  in\n",
      "6 262  the\n",
      "7 6290  rain\n",
      "8 588  like\n",
      "9 1310  little\n",
      "10 3988  kids\n"
     ]
    }
   ],
   "source": [
    "tokens = get_tokens(s25)"
   ]
  },
  {
   "cell_type": "code",
   "execution_count": 75,
   "id": "218a2971",
   "metadata": {},
   "outputs": [
    {
     "name": "stdout",
     "output_type": "stream",
     "text": [
      "Moving model to device:  cpu\n",
      "Finished loading pretrained model gpt2-small into EasyTransformer!\n"
     ]
    },
    {
     "data": {
      "text/plain": [
       "<matplotlib.image.AxesImage at 0x311a2c700>"
      ]
     },
     "execution_count": 75,
     "metadata": {},
     "output_type": "execute_result"
    },
    {
     "data": {
      "image/png": "[encoded data removed]",
      "text/plain": [
       "<Figure size 640x480 with 1 Axes>"
      ]
     },
     "metadata": {},
     "output_type": "display_data"
    }
   ],
   "source": [
    "reference_gpt2 = EasyTransformer.from_pretrained(\"gpt2-small\", fold_ln=False, center_unembed=False, center_writing_weights=False)\n",
    "reference_gpt2.eval()\n",
    "attention_scores_list = []\n",
    "register_attention_hooks(reference_gpt2)\n",
    "outputs = reference_gpt2(tokens)\n",
    "\n",
    "semantic_link = [[[0], [9,10]]]\n",
    "attention_map = get_attention_map(semantic_link, attention_scores_list)\n",
    "attention_maps.extend(attention_map)         \n",
    "\n",
    "matrix = np.reshape(attention_map[0], (12, 12))\n",
    "plt.imshow(matrix, cmap='Blues_r')"
   ]
  },
  {
   "cell_type": "code",
   "execution_count": 76,
   "id": "4b249c18",
   "metadata": {},
   "outputs": [
    {
     "data": {
      "text/plain": [
       "32"
      ]
     },
     "execution_count": 76,
     "metadata": {},
     "output_type": "execute_result"
    }
   ],
   "source": [
    "len(attention_maps)"
   ]
  },
  {
   "cell_type": "code",
   "execution_count": 77,
   "id": "9a2b26b4",
   "metadata": {},
   "outputs": [],
   "source": [
    "attention_maps_array = np.mean(np.array(attention_maps), axis = 0)\n"
   ]
  },
  {
   "cell_type": "code",
   "execution_count": 78,
   "id": "e9740bc3",
   "metadata": {},
   "outputs": [
    {
     "data": {
      "text/plain": [
       "<matplotlib.colorbar.Colorbar at 0x311a7e4f0>"
      ]
     },
     "execution_count": 78,
     "metadata": {},
     "output_type": "execute_result"
    },
    {
     "data": {
      "image/png": "[encoded data removed]",
      "text/plain": [
       "<Figure size 640x480 with 2 Axes>"
      ]
     },
     "metadata": {},
     "output_type": "display_data"
    }
   ],
   "source": [
    "matrix = np.reshape(attention_maps_array, (12, 12))\n",
    "plt.xticks(np.arange(0, 12, 1))\n",
    "plt.yticks(np.arange(0, 12, 1))\n",
    "plt.imshow(matrix, cmap='Purples')\n",
    "plt.colorbar()"
   ]
  },
  {
   "cell_type": "markdown",
   "id": "6c34c218",
   "metadata": {},
   "source": [
    "'Accent', 'Accent_r', 'Blues', 'Blues_r', 'BrBG', 'BrBG_r', 'BuGn', 'BuGn_r', 'BuPu', 'BuPu_r',\n",
    "'CMRmap', 'CMRmap_r', 'Dark2', 'Dark2_r', 'GnBu', 'GnBu_r', 'Greens', 'Greens_r', 'Greys', 'Greys_r',\n",
    "'OrRd', 'OrRd_r', 'Oranges', 'Oranges_r', 'PRGn', 'PRGn_r', 'Paired', 'Paired_r', 'Pastel1', 'Pastel1_r', \n",
    "'Pastel2', 'Pastel2_r', 'PiYG', 'PiYG_r', 'PuBu', 'PuBuGn', 'PuBuGn_r', 'PuBu_r', 'PuOr', 'PuOr_r', 'PuRd', \n",
    "'PuRd_r', 'Purples', 'Purples_r', 'RdBu', 'RdBu_r', 'RdGy', 'RdGy_r', 'RdPu', 'RdPu_r', 'RdYlBu', 'RdYlBu_r', \n",
    "'RdYlGn', 'RdYlGn_r', 'Reds', 'Reds_r', 'Set1', 'Set1_r', 'Set2', 'Set2_r', 'Set3', 'Set3_r', 'Spectral',\n",
    "'Spectral_r', 'Wistia', 'Wistia_r', 'YlGn', 'YlGnBu', 'YlGnBu_r', 'YlGn_r', 'YlOrBr', 'YlOrBr_r', 'YlOrRd', \n",
    "'YlOrRd_r', 'afmhot', 'afmhot_r', 'autumn', 'autumn_r', 'binary', 'binary_r', 'bone', 'bone_r', 'brg', 'brg_r', \n",
    "'bwr', 'bwr_r', 'cividis', 'cividis_r', 'cool', 'cool_r', 'coolwarm', 'coolwarm_r', 'copper', 'copper_r',\n",
    "'cubehelix', 'cubehelix_r', 'flag', 'flag_r', 'gist_earth', 'gist_earth_r', 'gist_gray', 'gist_gray_r', \n",
    "'gist_heat', 'gist_heat_r', 'gist_ncar', 'gist_ncar_r', 'gist_rainbow', 'gist_rainbow_r', 'gist_stern', \n",
    "'gist_stern_r', 'gist_yarg', 'gist_yarg_r', 'gnuplot', 'gnuplot2', 'gnuplot2_r', 'gnuplot_r', 'gray', 'gray_r', \n"
   ]
  },
  {
   "cell_type": "code",
   "execution_count": 79,
   "id": "5db26a70",
   "metadata": {},
   "outputs": [],
   "source": [
    "s19 = \"I am late for my class\"\n"
   ]
  },
  {
   "cell_type": "code",
   "execution_count": 80,
   "id": "f8370a4d",
   "metadata": {},
   "outputs": [
    {
     "name": "stdout",
     "output_type": "stream",
     "text": [
      "0 40 I\n",
      "1 716  am\n",
      "2 2739  late\n",
      "3 329  for\n",
      "4 616  my\n",
      "5 1398  class\n"
     ]
    }
   ],
   "source": [
    "tokens = get_tokens(s19)"
   ]
  },
  {
   "cell_type": "code",
   "execution_count": 81,
   "id": "e715397e",
   "metadata": {},
   "outputs": [
    {
     "name": "stdout",
     "output_type": "stream",
     "text": [
      "Moving model to device:  cpu\n",
      "Finished loading pretrained model gpt2-small into EasyTransformer!\n"
     ]
    }
   ],
   "source": [
    "reference_gpt2 = EasyTransformer.from_pretrained(\"gpt2-small\", fold_ln=False, center_unembed=False, center_writing_weights=False)\n",
    "reference_gpt2.eval()\n",
    "attention_scores_list = []\n",
    "register_attention_hooks(reference_gpt2)\n",
    "outputs = reference_gpt2(tokens)\n"
   ]
  },
  {
   "cell_type": "code",
   "execution_count": 82,
   "id": "a9f15d33",
   "metadata": {},
   "outputs": [],
   "source": [
    "token_strings = reference_gpt2.to_str_tokens(tokens)"
   ]
  },
  {
   "cell_type": "code",
   "execution_count": 83,
   "id": "cf6c4b04",
   "metadata": {},
   "outputs": [
    {
     "data": {
      "text/plain": [
       "<matplotlib.colorbar.Colorbar at 0x3607efac0>"
      ]
     },
     "execution_count": 83,
     "metadata": {},
     "output_type": "execute_result"
    },
    {
     "data": {
      "image/png": "[encoded data removed]",
      "text/plain": [
       "<Figure size 640x480 with 2 Axes>"
      ]
     },
     "metadata": {},
     "output_type": "display_data"
    }
   ],
   "source": [
    "\n",
    "num_tokens = len(token_strings)\n",
    "tick_positions = np.arange(num_tokens)\n",
    "\n",
    "# Plot the attention map\n",
    "plt.imshow(attention_scores_list[4][3].detach().numpy(), cmap='Purples')\n",
    "\n",
    "# Set the ticks and labels for both x and y axes\n",
    "plt.xticks(tick_positions, token_strings, rotation=90)\n",
    "plt.yticks(tick_positions, token_strings)\n",
    "\n",
    "plt.colorbar()\n"
   ]
  },
  {
   "cell_type": "code",
   "execution_count": 84,
   "id": "15a17dc5",
   "metadata": {},
   "outputs": [
    {
     "data": {
      "text/plain": [
       "<matplotlib.colorbar.Colorbar at 0x3398b4dc0>"
      ]
     },
     "execution_count": 84,
     "metadata": {},
     "output_type": "execute_result"
    },
    {
     "data": {
      "image/png": "[encoded data removed]",
      "text/plain": [
       "<Figure size 640x480 with 2 Axes>"
      ]
     },
     "metadata": {},
     "output_type": "display_data"
    }
   ],
   "source": [
    "\n",
    "num_tokens = len(token_strings)\n",
    "tick_positions = np.arange(num_tokens)\n",
    "\n",
    "# Plot the attention map\n",
    "plt.imshow(attention_scores_list[4][9].detach().numpy(), cmap='Purples')\n",
    "\n",
    "# Set the ticks and labels for both x and y axes\n",
    "plt.xticks(tick_positions, token_strings, rotation=90)\n",
    "plt.yticks(tick_positions, token_strings)\n",
    "\n",
    "plt.colorbar()\n"
   ]
  },
  {
   "cell_type": "code",
   "execution_count": 85,
   "id": "45b558b6",
   "metadata": {},
   "outputs": [
    {
     "data": {
      "text/plain": [
       "<matplotlib.colorbar.Colorbar at 0x360909100>"
      ]
     },
     "execution_count": 85,
     "metadata": {},
     "output_type": "execute_result"
    },
    {
     "data": {
      "image/png": "[encoded data removed]",
      "text/plain": [
       "<Figure size 640x480 with 2 Axes>"
      ]
     },
     "metadata": {},
     "output_type": "display_data"
    }
   ],
   "source": [
    "\n",
    "num_tokens = len(token_strings)\n",
    "tick_positions = np.arange(num_tokens)\n",
    "\n",
    "# Plot the attention map\n",
    "plt.imshow(attention_scores_list[3][8].detach().numpy(), cmap='Purples')\n",
    "\n",
    "# Set the ticks and labels for both x and y axes\n",
    "plt.xticks(tick_positions, token_strings, rotation=90)\n",
    "plt.yticks(tick_positions, token_strings)\n",
    "\n",
    "plt.colorbar()\n"
   ]
  },
  {
   "cell_type": "code",
   "execution_count": 86,
   "id": "6d1aabed",
   "metadata": {},
   "outputs": [],
   "source": [
    "s20 = \"At least 76 people were injured , and others were BURIED in the rubble\""
   ]
  },
  {
   "cell_type": "code",
   "execution_count": 87,
   "id": "19f98584",
   "metadata": {},
   "outputs": [
    {
     "name": "stdout",
     "output_type": "stream",
     "text": [
      "0 2953 At\n",
      "1 1551  least\n",
      "2 8684  76\n",
      "3 661  people\n",
      "4 547  were\n",
      "5 6686  injured\n",
      "6 837  ,\n",
      "7 290  and\n",
      "8 1854  others\n",
      "9 547  were\n",
      "10 45604  BUR\n",
      "11 19767 IED\n",
      "12 287  in\n",
      "13 262  the\n",
      "14 29632  rubble\n"
     ]
    }
   ],
   "source": [
    "tokens = get_tokens(s20)"
   ]
  },
  {
   "cell_type": "code",
   "execution_count": 88,
   "id": "e6dbaa83",
   "metadata": {},
   "outputs": [
    {
     "name": "stdout",
     "output_type": "stream",
     "text": [
      "Moving model to device:  cpu\n",
      "Finished loading pretrained model gpt2-small into EasyTransformer!\n"
     ]
    }
   ],
   "source": [
    "reference_gpt2 = EasyTransformer.from_pretrained(\"gpt2-small\", fold_ln=False, center_unembed=False, center_writing_weights=False)\n",
    "reference_gpt2.eval()\n",
    "attention_scores_list = []\n",
    "register_attention_hooks(reference_gpt2)\n",
    "outputs = reference_gpt2(tokens)\n"
   ]
  },
  {
   "cell_type": "code",
   "execution_count": 89,
   "id": "2570a2d2",
   "metadata": {},
   "outputs": [],
   "source": [
    "token_strings = reference_gpt2.to_str_tokens(tokens)"
   ]
  },
  {
   "cell_type": "code",
   "execution_count": 90,
   "id": "a6886dde",
   "metadata": {},
   "outputs": [
    {
     "data": {
      "text/plain": [
       "<matplotlib.colorbar.Colorbar at 0x311abcf40>"
      ]
     },
     "execution_count": 90,
     "metadata": {},
     "output_type": "execute_result"
    },
    {
     "data": {
      "image/png": "[encoded data removed]",
      "text/plain": [
       "<Figure size 640x480 with 2 Axes>"
      ]
     },
     "metadata": {},
     "output_type": "display_data"
    }
   ],
   "source": [
    "\n",
    "num_tokens = len(token_strings)\n",
    "tick_positions = np.arange(num_tokens)\n",
    "\n",
    "# Plot the attention map\n",
    "plt.imshow(attention_scores_list[8][5].detach().numpy(), cmap='Purples')\n",
    "\n",
    "# Set the ticks and labels for both x and y axes\n",
    "plt.xticks(tick_positions, token_strings, rotation=90)\n",
    "plt.yticks(tick_positions, token_strings)\n",
    "\n",
    "plt.colorbar()\n"
   ]
  },
  {
   "cell_type": "code",
   "execution_count": 91,
   "id": "2890d281",
   "metadata": {},
   "outputs": [
    {
     "data": {
      "text/plain": [
       "<matplotlib.colorbar.Colorbar at 0x38fe7b220>"
      ]
     },
     "execution_count": 91,
     "metadata": {},
     "output_type": "execute_result"
    },
    {
     "data": {
      "image/png": "[encoded data removed]",
      "text/plain": [
       "<Figure size 640x480 with 2 Axes>"
      ]
     },
     "metadata": {},
     "output_type": "display_data"
    }
   ],
   "source": [
    "\n",
    "num_tokens = len(token_strings)\n",
    "tick_positions = np.arange(num_tokens)\n",
    "\n",
    "# Plot the attention map\n",
    "plt.imshow(attention_scores_list[3][8].detach().numpy(), cmap='Purples')\n",
    "\n",
    "# Set the ticks and labels for both x and y axes\n",
    "plt.xticks(tick_positions, token_strings, rotation=90)\n",
    "plt.yticks(tick_positions, token_strings)\n",
    "\n",
    "plt.colorbar()\n"
   ]
  },
  {
   "cell_type": "code",
   "execution_count": null,
   "id": "0171197c",
   "metadata": {},
   "outputs": [],
   "source": []
  }
 ],
 "metadata": {
  "kernelspec": {
   "display_name": "Python 3 (ipykernel)",
   "language": "python",
   "name": "python3"
  },
  "language_info": {
   "codemirror_mode": {
    "name": "ipython",
    "version": 3
   },
   "file_extension": ".py",
   "mimetype": "text/x-python",
   "name": "python",
   "nbconvert_exporter": "python",
   "pygments_lexer": "ipython3",
   "version": "3.9.16"
  }
 },
 "nbformat": 4,
 "nbformat_minor": 5
}
